{
 "cells": [
  {
   "cell_type": "code",
   "execution_count": 1,
   "metadata": {},
   "outputs": [],
   "source": [
    "import os\n",
    "from pathlib import Path\n",
    "%load_ext autoreload\n",
    "%autoreload 2\n"
   ]
  },
  {
   "cell_type": "code",
   "execution_count": 3,
   "metadata": {},
   "outputs": [],
   "source": [
    "import sys\n",
    "sys.path.append(\"../\")"
   ]
  },
  {
   "cell_type": "code",
   "execution_count": 9,
   "metadata": {},
   "outputs": [],
   "source": [
    "import datageneration"
   ]
  },
  {
   "cell_type": "code",
   "execution_count": 12,
   "metadata": {},
   "outputs": [
    {
     "data": {
      "text/plain": [
       "2"
      ]
     },
     "execution_count": 12,
     "metadata": {},
     "output_type": "execute_result"
    }
   ],
   "source": [
    "len({1,2,3} &{1,2})\n"
   ]
  },
  {
   "cell_type": "code",
   "execution_count": 26,
   "metadata": {},
   "outputs": [],
   "source": [
    "from datageneration.generate_utils import validate_directory_trees"
   ]
  },
  {
   "cell_type": "code",
   "execution_count": null,
   "metadata": {},
   "outputs": [],
   "source": [
    "def validate_directory_trees(dir1, dir2) -> bool:\n",
    "    \"\"\"\n",
    "    Compare two directories recursively. Files in each directory are\n",
    "    assumed to be equal if their names and contents are equal.\n",
    "\n",
    "    Args:\n",
    "        dir1 (Path):First directory path\n",
    "        dir2 (Path): Second directory path\n",
    "\n",
    "    Returns:\n",
    "        bool: True if the directory trees are the same and\n",
    "        there were no errors while accessing the directories or files,\n",
    "        False otherwise.\n",
    "    \"\"\"\n",
    "    dirs_cmp = filecmp.dircmp(dir1, dir2)\n",
    "    if (\n",
    "        len(dirs_cmp.common_files) != 0 \n",
    "        or len(dirs_cmp.left_only) > 0\n",
    "        or len(dirs_cmp.right_only) > 0\n",
    "        or len(dirs_cmp.funny_files) > 0\n",
    "    ):\n",
    "        return False\n",
    "    for common_dir in dirs_cmp.common_dirs:\n",
    "        new_dir1 = dir1 / common_dir\n",
    "        new_dir2 = dir2 / common_dir\n",
    "        if not validate_directory_trees(new_dir1, new_dir2):\n",
    "            return False\n",
    "    return True\n"
   ]
  },
  {
   "cell_type": "code",
   "execution_count": 28,
   "metadata": {},
   "outputs": [
    {
     "data": {
      "text/plain": [
       "False"
      ]
     },
     "execution_count": 28,
     "metadata": {},
     "output_type": "execute_result"
    }
   ],
   "source": [
    "validate_directory_trees(\"../datageneration/dataset/HR/121374591.hd/\",\"../datageneration/dataset/LR/195913058.hd//\")"
   ]
  },
  {
   "cell_type": "code",
   "execution_count": 19,
   "metadata": {},
   "outputs": [
    {
     "data": {
      "text/plain": [
       "True"
      ]
     },
     "execution_count": 19,
     "metadata": {},
     "output_type": "execute_result"
    }
   ],
   "source": [
    "from pathlib import Path\n",
    "Path(\"./\").exists()"
   ]
  },
  {
   "cell_type": "code",
   "execution_count": 65,
   "metadata": {},
   "outputs": [],
   "source": [
    "import filecmp\n",
    "\n",
    "def same_folders(dcmp):\n",
    "    if dcmp.diff_files or dcmp.left_only or dcmp.right_only:\n",
    "        return False\n",
    "    for sub_dcmp in dcmp.subdirs.values():\n",
    "        if not same_folders(sub_dcmp):\n",
    "            return False\n",
    "    return True\n",
    "\n",
    "len(filecmp.dircmp(\"../datageneration/dataset/HR/121374591.hd/\",\"../datageneration/dataset/LR/191379415.hd/\").common_files)\n",
    "dir1= \"../datageneration/dataset/HR/121374591.hd/\"\n",
    "dir2 = \"../datageneration/dataset/LR/191379415.hd//\""
   ]
  },
  {
   "cell_type": "code",
   "execution_count": 66,
   "metadata": {},
   "outputs": [
    {
     "data": {
      "text/plain": [
       "63"
      ]
     },
     "execution_count": 66,
     "metadata": {},
     "output_type": "execute_result"
    }
   ],
   "source": [
    "len(filecmp.dircmp(dir1,dir2).common_files)\n"
   ]
  },
  {
   "cell_type": "code",
   "execution_count": 59,
   "metadata": {},
   "outputs": [],
   "source": [
    "(_, mismatch, errors) = filecmp.cmpfiles(\n",
    "    dir1, dir2, filecmp.dircmp(dir1,dir2).common_files, shallow=True\n",
    ")"
   ]
  },
  {
   "cell_type": "code",
   "execution_count": 60,
   "metadata": {},
   "outputs": [
    {
     "data": {
      "text/plain": [
       "0"
      ]
     },
     "execution_count": 60,
     "metadata": {},
     "output_type": "execute_result"
    }
   ],
   "source": [
    "len(mismatch)"
   ]
  },
  {
   "cell_type": "code",
   "execution_count": 21,
   "metadata": {},
   "outputs": [
    {
     "data": {
      "text/plain": [
       "[]"
      ]
     },
     "execution_count": 21,
     "metadata": {},
     "output_type": "execute_result"
    }
   ],
   "source": [
    "filecmp.dircmp(\"../datageneration/dataset/HR/121374591.hd/\",\"../datageneration/dataset/HR/121374591.hd/\").diff_files"
   ]
  },
  {
   "cell_type": "code",
   "execution_count": null,
   "metadata": {},
   "outputs": [],
   "source": [
    "def compare_directory(dir1,dir2):\n",
    "    "
   ]
  },
  {
   "cell_type": "code",
   "execution_count": 17,
   "metadata": {},
   "outputs": [],
   "source": [
    "for i in  os.walk(\"../../../video-datasets/vimeo/sequences\"):\n",
    "    print(i)\n",
    "#     break"
   ]
  },
  {
   "cell_type": "code",
   "execution_count": 1,
   "metadata": {},
   "outputs": [],
   "source": [
    "# for i in os.scandir(\"../../../video-datasets/vimeo/sequences\"):\n",
    "#     print(i.path)\n",
    "#     if i.is_file():\n",
    "#         pass\n",
    "#     elif i.is_dir():\n",
    "#         print(os.listdir(i.path))\n",
    "    "
   ]
  },
  {
   "cell_type": "code",
   "execution_count": 7,
   "metadata": {},
   "outputs": [],
   "source": [
    "def wrapper(*args, **kwargs):\n",
    "    args_new =()\n",
    "    for i in args:\n",
    "        if type(i)==str:\n",
    "            args_new.add(Path(i))\n",
    "        else:\n",
    "            args_new.add(i)\n",
    "    for key,value in kwargs.item():\n",
    "        if type(value)==str:\n",
    "            kwargs[key]=Path(i)\n",
    "        else:\n",
    "            kwargs[key] =value\n",
    "#     return func(*args, **kwargs).lower()"
   ]
  },
  {
   "cell_type": "code",
   "execution_count": 8,
   "metadata": {},
   "outputs": [
    {
     "name": "stdout",
     "output_type": "stream",
     "text": [
      "<class 'tuple'>\n"
     ]
    }
   ],
   "source": [
    "wrapper(\"vinod\")"
   ]
  },
  {
   "cell_type": "code",
   "execution_count": 38,
   "metadata": {},
   "outputs": [],
   "source": [
    "                                                                                              \n",
    "def list_files(dir):                                                                                                  \n",
    "    r = []                                                                                                            \n",
    "    subdirs = [x[0] for x in os.walk(dir)]                                                                            \n",
    "    for subdir in subdirs:                                                                                            \n",
    "        files = next(os.walk(subdir))[2]                                                                             \n",
    "        if (len(files) > 0):                                                                                          \n",
    "            for file in files:                                                                                        \n",
    "                r.append(os.path.join(subdir, file))                                                                         \n",
    "    return r           "
   ]
  },
  {
   "cell_type": "code",
   "execution_count": 54,
   "metadata": {},
   "outputs": [],
   "source": [
    "# Path(\"../../../video-datasets/vimeo/sequences\")."
   ]
  },
  {
   "cell_type": "code",
   "execution_count": 112,
   "metadata": {},
   "outputs": [],
   "source": [
    "Path(\"./datasets/hr\").mkdir(parents=True, exist_ok=True)"
   ]
  },
  {
   "cell_type": "code",
   "execution_count": 98,
   "metadata": {},
   "outputs": [],
   "source": [
    "def run_fast_scandir(dir, ext=[]):\n",
    "    subfolders, files = [], []\n",
    "    groups = []\n",
    "\n",
    "    for f in os.scandir(dir):\n",
    "        if f.is_dir():\n",
    "            subfolders.append(f.path)\n",
    "        if f.is_file():\n",
    "            if os.path.splitext(f.name)[1].lower() in ext or len(ext) == 0:\n",
    "                files.append(f.path)\n",
    "\n",
    "    for dir in list(subfolders):\n",
    "        _, f, _ = run_fast_scandir(dir, ext)\n",
    "        groups.append(f)\n",
    "    return subfolders, files, groups"
   ]
  },
  {
   "cell_type": "code",
   "execution_count": 108,
   "metadata": {},
   "outputs": [],
   "source": [
    "\n",
    "folder = Path(\"../../../video-datasets/vimeo/sequences/00026/0001\")\n",
    "subfolders, files,groups = run_fast_scandir(folder, [\".jpg\",\".png\",\".mp4\"])\n"
   ]
  },
  {
   "cell_type": "code",
   "execution_count": 88,
   "metadata": {},
   "outputs": [],
   "source": [
    "# subfolders,files,groups"
   ]
  },
  {
   "cell_type": "code",
   "execution_count": 110,
   "metadata": {},
   "outputs": [
    {
     "data": {
      "text/plain": [
       "['../../../video-datasets/vimeo/sequences/00026/0001/im1.png',\n",
       " '../../../video-datasets/vimeo/sequences/00026/0001/im2.png',\n",
       " '../../../video-datasets/vimeo/sequences/00026/0001/im3.png',\n",
       " '../../../video-datasets/vimeo/sequences/00026/0001/im4.png',\n",
       " '../../../video-datasets/vimeo/sequences/00026/0001/im5.png',\n",
       " '../../../video-datasets/vimeo/sequences/00026/0001/im6.png',\n",
       " '../../../video-datasets/vimeo/sequences/00026/0001/im7.png']"
      ]
     },
     "execution_count": 110,
     "metadata": {},
     "output_type": "execute_result"
    }
   ],
   "source": [
    "files"
   ]
  },
  {
   "cell_type": "code",
   "execution_count": 4,
   "metadata": {},
   "outputs": [],
   "source": []
  },
  {
   "cell_type": "code",
   "execution_count": 32,
   "metadata": {},
   "outputs": [
    {
     "data": {
      "text/plain": [
       "''"
      ]
     },
     "execution_count": 32,
     "metadata": {},
     "output_type": "execute_result"
    }
   ],
   "source": []
  },
  {
   "cell_type": "code",
   "execution_count": 34,
   "metadata": {},
   "outputs": [],
   "source": [
    "l=\"../../../video-datasets/vimeo/sequences/00001/0001/\".split(\"/\")"
   ]
  },
  {
   "cell_type": "code",
   "execution_count": 83,
   "metadata": {},
   "outputs": [
    {
     "ename": "SyntaxError",
     "evalue": "invalid syntax (<ipython-input-83-ce880f7f4960>, line 1)",
     "output_type": "error",
     "traceback": [
      "\u001b[0;36m  File \u001b[0;32m\"<ipython-input-83-ce880f7f4960>\"\u001b[0;36m, line \u001b[0;32m1\u001b[0m\n\u001b[0;31m    Path(\"../../../video-datasets/vimeo/sequences/00001/0001/file.jpg\")/{.png}\u001b[0m\n\u001b[0m                                                                         ^\u001b[0m\n\u001b[0;31mSyntaxError\u001b[0m\u001b[0;31m:\u001b[0m invalid syntax\n"
     ]
    }
   ],
   "source": [
    "Path(\"../../../video-datasets/vimeo/sequences/00001/0001/file.jpg\")/{.png}"
   ]
  },
  {
   "cell_type": "code",
   "execution_count": 30,
   "metadata": {},
   "outputs": [],
   "source": [
    "import sys\n",
    "sys.path.append(\"../datageneration/\")\n",
    "import generate_utils\n",
    "import re\n",
    "re.sub('[^A-Za-z0-9]+', '', \"\")\n",
    "from PIL import Image\n",
    "import numpy as np\n",
    "import torchvision.transforms.functional as TF\n",
    "import logging\n",
    "from tqdm import tqdm"
   ]
  },
  {
   "cell_type": "code",
   "execution_count": 9,
   "metadata": {},
   "outputs": [],
   "source": [
    "class DataGenerator:\n",
    "    def __init__(self, **kwargs):\n",
    "        self.cleanup_factor = kwargs.get(\"cleanup_factor\", 1)\n",
    "        self.upscale_factor = kwargs.get(\"upscale_factor\", 2)\n",
    "        self.compress = kwargs.get(\"compress\", False)\n",
    "        self.ignore_directory = kwargs.get(\"ignore_directory\", False)\n",
    "        self.ignore_video = kwargs.get(\"ignore_video\", False)\n",
    "        self.output_directory = Path(kwargs.get(\"output_directory\", \"./datasets\"))\n",
    "        self.extensions = kwargs.get(\"extensions\", [])\n",
    "\n",
    "        self.hr_dir = self.output_directory / \"HR\"\n",
    "        self.lr_dir = self.output_directory / \"LR\"\n",
    "        self.lr_dir.mkdir(parents=True, exist_ok=True)\n",
    "        self.hr_dir.mkdir(parents=True, exist_ok=True)\n",
    "\n",
    "    def process_video(self, video_path):\n",
    "        if self.ignore_video or not generate_utils.is_video(video_path):\n",
    "            return\n",
    "        else:\n",
    "            pass\n",
    "\n",
    "    def process_directory(self, directory_path,include_root_name=False):\n",
    "        # folder supre res\n",
    "        # every sequence\n",
    "        # clean image\n",
    "        # store\n",
    "        if self.ignore_directory:\n",
    "            return\n",
    "        directory_path = generate_utils.change_pathlib(directory_path)\n",
    "        _, files, groups = generate_utils.run_fast_scandir(\n",
    "            directory_path, self.extensions\n",
    "        )\n",
    "        if len(groups)==0:\n",
    "            groups.append(files)\n",
    "        \n",
    "        for group in tqdm(groups,desc=\"generating data\"):\n",
    "            self.process_group(group,include_root_name,True)\n",
    "\n",
    "    def process_group(self, image_array,include_root_name=False,child=False):\n",
    "        quality = np.random.randint(3, 10) * 10\n",
    "        group_list = list(filter(lambda x:x, map(lambda x:re.sub(r'[^A-Za-z0-9]', '', x), generate_utils.change_pathlib(image_array[0]).parts)))[:-1]\n",
    "        if not include_root_name:\n",
    "            group_list = group_list[1:]\n",
    "        group_name = '-'.join([str(x) for x in group_list])\n",
    "        for file in tqdm(image_array,desc=f\"generating groups {group_name}\",leave=not child):\n",
    "            if not generate_utils.is_image_file(file) or generate_utils.is_video(file):\n",
    "                self.process_video(file)\n",
    "                continue\n",
    "            file = generate_utils.change_pathlib(file)\n",
    "            try:   \n",
    "\n",
    "                group_name = Path(group_name)\n",
    "                input_img = Image.open(file).convert(\"RGB\")\n",
    "                input_img = TF.to_tensor(input_img)\n",
    "                input_img = generate_utils.imresize(\n",
    "                    input_img, 1.0 / self.cleanup_factor, True\n",
    "                )\n",
    "                hr_path = self.hr_dir / group_name\n",
    "                lr_path = self.lr_dir / group_name\n",
    "                hr_path.mkdir(parents=True,exist_ok=True)\n",
    "                lr_path.mkdir(parents=True,exist_ok=True)\n",
    "                TF.to_pil_image(input_img).save(\n",
    "                    str(f\"{hr_path/file.stem}.png\"), \"PNG\"\n",
    "                )\n",
    "                resize_img = generate_utils.imresize(\n",
    "                    input_img, 1.0 / self.upscale_factor, True\n",
    "                )\n",
    "\n",
    "                if self.compress:\n",
    "                    TF.to_pil_image(resize_img).save(\n",
    "                        str(f\"{lr_path/file.stem}.jpg\"),\n",
    "                        \"JPEG\",\n",
    "                        quality=quality,\n",
    "                    )\n",
    "                else:\n",
    "                    TF.to_pil_image(resize_img).save(\n",
    "                        str(f\"{lr_path/file.stem}.png\"), \"PNG\"\n",
    "                    )\n",
    "            except Exception as e:\n",
    "                logging.error(f\"error while processing {file} the error is {e}\")\n",
    "\n",
    "    def process(self, dataset_path,include_root_name=False):\n",
    "        for i in os.scandir(dataset_path):\n",
    "            if i.is_file():\n",
    "                self.process_video(i.path)\n",
    "            elif i.is_dir():\n",
    "                self.process_directory(i.path,include_root_name)"
   ]
  },
  {
   "cell_type": "code",
   "execution_count": 18,
   "metadata": {},
   "outputs": [
    {
     "data": {
      "text/plain": [
       "'1'"
      ]
     },
     "execution_count": 18,
     "metadata": {},
     "output_type": "execute_result"
    }
   ],
   "source": [
    "a=torch.tensor([1])\n",
    "f\"{a.size()[0]}\""
   ]
  },
  {
   "cell_type": "code",
   "execution_count": null,
   "metadata": {},
   "outputs": [],
   "source": []
  },
  {
   "cell_type": "code",
   "execution_count": 58,
   "metadata": {},
   "outputs": [
    {
     "name": "stderr",
     "output_type": "stream",
     "text": [
      "generating data:   0%|          | 0/75 [00:00<?, ?it/s]\n",
      "\n",
      "  0%|          | 0/7 [00:00<?, ?it/s]\u001b[A\u001b[A\n",
      "\n",
      "                                     \u001b[A\u001b[A\n",
      "\n",
      "  0%|          | 0/7 [00:00<?, ?it/s]\u001b[A\u001b[A\n",
      "\n",
      "generating data:   3%|▎         | 2/75 [00:00<00:07, 10.23it/s]\n",
      "\n",
      "  0%|          | 0/7 [00:00<?, ?it/s]\u001b[A\u001b[A\n",
      "\n",
      "                                     \u001b[A\u001b[A\n",
      "\n",
      "  0%|          | 0/7 [00:00<?, ?it/s]\u001b[A\u001b[A\n",
      "\n",
      "generating data:   5%|▌         | 4/75 [00:00<00:06, 10.32it/s]\n",
      "\n",
      "  0%|          | 0/7 [00:00<?, ?it/s]\u001b[A\u001b[A\n",
      "\n",
      "                                     \u001b[A\u001b[A\n",
      "\n",
      "  0%|          | 0/7 [00:00<?, ?it/s]\u001b[A\u001b[A\n",
      "\n",
      "100%|██████████| 7/7 [00:00<00:00, 64.53it/s]\u001b[A\u001b[A\n",
      "\n",
      "generating data:   8%|▊         | 6/75 [00:00<00:06,  9.96it/s]\n",
      "\n",
      "  0%|          | 0/7 [00:00<?, ?it/s]\u001b[A\u001b[A\n",
      "\n",
      "                                     \u001b[A\u001b[A\n",
      "\n",
      "  0%|          | 0/7 [00:00<?, ?it/s]\u001b[A\u001b[A\n",
      "\n",
      "100%|██████████| 7/7 [00:00<00:00, 68.84it/s]\u001b[A\u001b[A\n",
      "\n",
      "generating data:  11%|█         | 8/75 [00:00<00:06,  9.92it/s]\n",
      "\n",
      "  0%|          | 0/7 [00:00<?, ?it/s]\u001b[A\u001b[A\n",
      "\n",
      "                                     \u001b[A\u001b[A\n",
      "\n",
      "  0%|          | 0/7 [00:00<?, ?it/s]\u001b[A\u001b[A\n",
      "\n",
      "generating data:  13%|█▎        | 10/75 [00:00<00:06, 10.29it/s]\n",
      "\n",
      "  0%|          | 0/7 [00:00<?, ?it/s]\u001b[A\u001b[A\n",
      "\n",
      "                                     \u001b[A\u001b[A\n",
      "\n",
      "  0%|          | 0/7 [00:00<?, ?it/s]\u001b[A\u001b[A\n",
      "\n",
      "generating data:  16%|█▌        | 12/75 [00:01<00:06, 10.39it/s]\n",
      "\n",
      "  0%|          | 0/7 [00:00<?, ?it/s]\u001b[A\u001b[A\n",
      "\n",
      "100%|██████████| 7/7 [00:00<00:00, 68.55it/s]\u001b[A\u001b[A\n",
      "\n",
      "                                             \u001b[A\u001b[A\n",
      "\n",
      "  0%|          | 0/7 [00:00<?, ?it/s]\u001b[A\u001b[A\n",
      "\n",
      "generating data:  19%|█▊        | 14/75 [00:01<00:05, 10.24it/s]\n",
      "\n",
      "  0%|          | 0/7 [00:00<?, ?it/s]\u001b[A\u001b[A\n",
      "\n",
      "100%|██████████| 7/7 [00:00<00:00, 60.58it/s]\u001b[A\u001b[A\n",
      "\n",
      "                                             \u001b[A\u001b[A\n",
      "\n",
      "  0%|          | 0/7 [00:00<?, ?it/s]\u001b[A\u001b[A\n",
      "\n",
      "100%|██████████| 7/7 [00:00<00:00, 69.99it/s]\u001b[A\u001b[A\n",
      "\n",
      "generating data:  21%|██▏       | 16/75 [00:01<00:06,  9.81it/s]\n",
      "\n",
      "  0%|          | 0/7 [00:00<?, ?it/s]\u001b[A\u001b[A\n",
      "\n",
      "100%|██████████| 7/7 [00:00<00:00, 66.63it/s]\u001b[A\u001b[A\n",
      "\n",
      "generating data:  23%|██▎       | 17/75 [00:01<00:05,  9.67it/s]\n",
      "\n",
      "  0%|          | 0/7 [00:00<?, ?it/s]\u001b[A\u001b[A\n",
      "\n",
      "                                     \u001b[A\u001b[A\n",
      "\n",
      "  0%|          | 0/7 [00:00<?, ?it/s]\u001b[A\u001b[A\n",
      "\n",
      "generating data:  25%|██▌       | 19/75 [00:01<00:05,  9.86it/s]\n",
      "\n",
      "  0%|          | 0/7 [00:00<?, ?it/s]\u001b[A\u001b[A\n",
      "\n",
      "                                     \u001b[A\u001b[A\n",
      "\n",
      "  0%|          | 0/7 [00:00<?, ?it/s]\u001b[A\u001b[A\n",
      "\n",
      "100%|██████████| 7/7 [00:00<00:00, 68.89it/s]\u001b[A\u001b[A\n",
      "\n",
      "generating data:  28%|██▊       | 21/75 [00:02<00:05,  9.85it/s]\n",
      "\n",
      "  0%|          | 0/7 [00:00<?, ?it/s]\u001b[A\u001b[A\n",
      "\n",
      "generating data:  28%|██▊       | 21/75 [00:02<00:05,  9.93it/s]\n"
     ]
    },
    {
     "ename": "KeyboardInterrupt",
     "evalue": "",
     "output_type": "error",
     "traceback": [
      "\u001b[0;31m---------------------------------------------------------------------------\u001b[0m",
      "\u001b[0;31mAttributeError\u001b[0m                            Traceback (most recent call last)",
      "\u001b[0;32m~/anaconda3/envs/pytorch_p38/lib/python3.8/site-packages/PIL/ImageFile.py\u001b[0m in \u001b[0;36m_save\u001b[0;34m(im, fp, tile, bufsize)\u001b[0m\n\u001b[1;32m    509\u001b[0m     \u001b[0;32mtry\u001b[0m\u001b[0;34m:\u001b[0m\u001b[0;34m\u001b[0m\u001b[0;34m\u001b[0m\u001b[0m\n\u001b[0;32m--> 510\u001b[0;31m         \u001b[0mfh\u001b[0m \u001b[0;34m=\u001b[0m \u001b[0mfp\u001b[0m\u001b[0;34m.\u001b[0m\u001b[0mfileno\u001b[0m\u001b[0;34m(\u001b[0m\u001b[0;34m)\u001b[0m\u001b[0;34m\u001b[0m\u001b[0;34m\u001b[0m\u001b[0m\n\u001b[0m\u001b[1;32m    511\u001b[0m         \u001b[0mfp\u001b[0m\u001b[0;34m.\u001b[0m\u001b[0mflush\u001b[0m\u001b[0;34m(\u001b[0m\u001b[0;34m)\u001b[0m\u001b[0;34m\u001b[0m\u001b[0;34m\u001b[0m\u001b[0m\n",
      "\u001b[0;31mAttributeError\u001b[0m: '_idat' object has no attribute 'fileno'",
      "\nDuring handling of the above exception, another exception occurred:\n",
      "\u001b[0;31mKeyboardInterrupt\u001b[0m                         Traceback (most recent call last)",
      "\u001b[0;32m<ipython-input-58-994e405627b2>\u001b[0m in \u001b[0;36m<module>\u001b[0;34m\u001b[0m\n\u001b[1;32m      1\u001b[0m \u001b[0md\u001b[0m\u001b[0;34m=\u001b[0m\u001b[0mDataGenerator\u001b[0m\u001b[0;34m(\u001b[0m\u001b[0mcompress\u001b[0m\u001b[0;34m=\u001b[0m\u001b[0;32mTrue\u001b[0m\u001b[0;34m)\u001b[0m\u001b[0;34m\u001b[0m\u001b[0;34m\u001b[0m\u001b[0m\n\u001b[1;32m      2\u001b[0m \u001b[0;34m\u001b[0m\u001b[0m\n\u001b[0;32m----> 3\u001b[0;31m \u001b[0md\u001b[0m\u001b[0;34m.\u001b[0m\u001b[0mprocess\u001b[0m\u001b[0;34m(\u001b[0m\u001b[0;34m\"../../../video-datasets/vimeo_super_resolution_test/low_resolution/\"\u001b[0m\u001b[0;34m)\u001b[0m\u001b[0;34m\u001b[0m\u001b[0;34m\u001b[0m\u001b[0m\n\u001b[0m",
      "\u001b[0;32m<ipython-input-57-5ac6d3865b57>\u001b[0m in \u001b[0;36mprocess\u001b[0;34m(self, dataset_path, include_root_name)\u001b[0m\n\u001b[1;32m     86\u001b[0m                 \u001b[0mself\u001b[0m\u001b[0;34m.\u001b[0m\u001b[0mprocess_video\u001b[0m\u001b[0;34m(\u001b[0m\u001b[0mi\u001b[0m\u001b[0;34m.\u001b[0m\u001b[0mpath\u001b[0m\u001b[0;34m)\u001b[0m\u001b[0;34m\u001b[0m\u001b[0;34m\u001b[0m\u001b[0m\n\u001b[1;32m     87\u001b[0m             \u001b[0;32melif\u001b[0m \u001b[0mi\u001b[0m\u001b[0;34m.\u001b[0m\u001b[0mis_dir\u001b[0m\u001b[0;34m(\u001b[0m\u001b[0;34m)\u001b[0m\u001b[0;34m:\u001b[0m\u001b[0;34m\u001b[0m\u001b[0;34m\u001b[0m\u001b[0m\n\u001b[0;32m---> 88\u001b[0;31m                 \u001b[0mself\u001b[0m\u001b[0;34m.\u001b[0m\u001b[0mprocess_directory\u001b[0m\u001b[0;34m(\u001b[0m\u001b[0mi\u001b[0m\u001b[0;34m.\u001b[0m\u001b[0mpath\u001b[0m\u001b[0;34m,\u001b[0m\u001b[0minclude_root_name\u001b[0m\u001b[0;34m)\u001b[0m\u001b[0;34m\u001b[0m\u001b[0;34m\u001b[0m\u001b[0m\n\u001b[0m",
      "\u001b[0;32m<ipython-input-57-5ac6d3865b57>\u001b[0m in \u001b[0;36mprocess_directory\u001b[0;34m(self, directory_path, include_root_name)\u001b[0m\n\u001b[1;32m     35\u001b[0m \u001b[0;34m\u001b[0m\u001b[0m\n\u001b[1;32m     36\u001b[0m         \u001b[0;32mfor\u001b[0m \u001b[0mgroup\u001b[0m \u001b[0;32min\u001b[0m \u001b[0mtqdm\u001b[0m\u001b[0;34m(\u001b[0m\u001b[0mgroups\u001b[0m\u001b[0;34m,\u001b[0m\u001b[0mdesc\u001b[0m\u001b[0;34m=\u001b[0m\u001b[0;34m\"generating data\"\u001b[0m\u001b[0;34m)\u001b[0m\u001b[0;34m:\u001b[0m\u001b[0;34m\u001b[0m\u001b[0;34m\u001b[0m\u001b[0m\n\u001b[0;32m---> 37\u001b[0;31m             \u001b[0mself\u001b[0m\u001b[0;34m.\u001b[0m\u001b[0mprocess_group\u001b[0m\u001b[0;34m(\u001b[0m\u001b[0mgroup\u001b[0m\u001b[0;34m,\u001b[0m\u001b[0minclude_root_name\u001b[0m\u001b[0;34m,\u001b[0m\u001b[0;32mTrue\u001b[0m\u001b[0;34m)\u001b[0m\u001b[0;34m\u001b[0m\u001b[0;34m\u001b[0m\u001b[0m\n\u001b[0m\u001b[1;32m     38\u001b[0m \u001b[0;34m\u001b[0m\u001b[0m\n\u001b[1;32m     39\u001b[0m     \u001b[0;32mdef\u001b[0m \u001b[0mprocess_group\u001b[0m\u001b[0;34m(\u001b[0m\u001b[0mself\u001b[0m\u001b[0;34m,\u001b[0m \u001b[0mimage_array\u001b[0m\u001b[0;34m,\u001b[0m\u001b[0minclude_root_name\u001b[0m\u001b[0;34m=\u001b[0m\u001b[0;32mFalse\u001b[0m\u001b[0;34m,\u001b[0m\u001b[0mchild\u001b[0m\u001b[0;34m=\u001b[0m\u001b[0;32mFalse\u001b[0m\u001b[0;34m)\u001b[0m\u001b[0;34m:\u001b[0m\u001b[0;34m\u001b[0m\u001b[0;34m\u001b[0m\u001b[0m\n",
      "\u001b[0;32m<ipython-input-57-5ac6d3865b57>\u001b[0m in \u001b[0;36mprocess_group\u001b[0;34m(self, image_array, include_root_name, child)\u001b[0m\n\u001b[1;32m     60\u001b[0m                 \u001b[0mhr_path\u001b[0m\u001b[0;34m.\u001b[0m\u001b[0mmkdir\u001b[0m\u001b[0;34m(\u001b[0m\u001b[0mparents\u001b[0m\u001b[0;34m=\u001b[0m\u001b[0;32mTrue\u001b[0m\u001b[0;34m,\u001b[0m\u001b[0mexist_ok\u001b[0m\u001b[0;34m=\u001b[0m\u001b[0;32mTrue\u001b[0m\u001b[0;34m)\u001b[0m\u001b[0;34m\u001b[0m\u001b[0;34m\u001b[0m\u001b[0m\n\u001b[1;32m     61\u001b[0m                 \u001b[0mlr_path\u001b[0m\u001b[0;34m.\u001b[0m\u001b[0mmkdir\u001b[0m\u001b[0;34m(\u001b[0m\u001b[0mparents\u001b[0m\u001b[0;34m=\u001b[0m\u001b[0;32mTrue\u001b[0m\u001b[0;34m,\u001b[0m\u001b[0mexist_ok\u001b[0m\u001b[0;34m=\u001b[0m\u001b[0;32mTrue\u001b[0m\u001b[0;34m)\u001b[0m\u001b[0;34m\u001b[0m\u001b[0;34m\u001b[0m\u001b[0m\n\u001b[0;32m---> 62\u001b[0;31m                 TF.to_pil_image(input_img).save(\n\u001b[0m\u001b[1;32m     63\u001b[0m                     \u001b[0mstr\u001b[0m\u001b[0;34m(\u001b[0m\u001b[0;34mf\"{hr_path/file.stem}.png\"\u001b[0m\u001b[0;34m)\u001b[0m\u001b[0;34m,\u001b[0m \u001b[0;34m\"PNG\"\u001b[0m\u001b[0;34m\u001b[0m\u001b[0;34m\u001b[0m\u001b[0m\n\u001b[1;32m     64\u001b[0m                 )\n",
      "\u001b[0;32m~/anaconda3/envs/pytorch_p38/lib/python3.8/site-packages/PIL/Image.py\u001b[0m in \u001b[0;36msave\u001b[0;34m(self, fp, format, **params)\u001b[0m\n\u001b[1;32m   2162\u001b[0m \u001b[0;34m\u001b[0m\u001b[0m\n\u001b[1;32m   2163\u001b[0m         \u001b[0;32mtry\u001b[0m\u001b[0;34m:\u001b[0m\u001b[0;34m\u001b[0m\u001b[0;34m\u001b[0m\u001b[0m\n\u001b[0;32m-> 2164\u001b[0;31m             \u001b[0msave_handler\u001b[0m\u001b[0;34m(\u001b[0m\u001b[0mself\u001b[0m\u001b[0;34m,\u001b[0m \u001b[0mfp\u001b[0m\u001b[0;34m,\u001b[0m \u001b[0mfilename\u001b[0m\u001b[0;34m)\u001b[0m\u001b[0;34m\u001b[0m\u001b[0;34m\u001b[0m\u001b[0m\n\u001b[0m\u001b[1;32m   2165\u001b[0m         \u001b[0;32mfinally\u001b[0m\u001b[0;34m:\u001b[0m\u001b[0;34m\u001b[0m\u001b[0;34m\u001b[0m\u001b[0m\n\u001b[1;32m   2166\u001b[0m             \u001b[0;31m# do what we can to clean up\u001b[0m\u001b[0;34m\u001b[0m\u001b[0;34m\u001b[0m\u001b[0;34m\u001b[0m\u001b[0m\n",
      "\u001b[0;32m~/anaconda3/envs/pytorch_p38/lib/python3.8/site-packages/PIL/PngImagePlugin.py\u001b[0m in \u001b[0;36m_save\u001b[0;34m(im, fp, filename, chunk, save_all)\u001b[0m\n\u001b[1;32m   1335\u001b[0m         \u001b[0m_write_multiple_frames\u001b[0m\u001b[0;34m(\u001b[0m\u001b[0mim\u001b[0m\u001b[0;34m,\u001b[0m \u001b[0mfp\u001b[0m\u001b[0;34m,\u001b[0m \u001b[0mchunk\u001b[0m\u001b[0;34m,\u001b[0m \u001b[0mrawmode\u001b[0m\u001b[0;34m)\u001b[0m\u001b[0;34m\u001b[0m\u001b[0;34m\u001b[0m\u001b[0m\n\u001b[1;32m   1336\u001b[0m     \u001b[0;32melse\u001b[0m\u001b[0;34m:\u001b[0m\u001b[0;34m\u001b[0m\u001b[0;34m\u001b[0m\u001b[0m\n\u001b[0;32m-> 1337\u001b[0;31m         \u001b[0mImageFile\u001b[0m\u001b[0;34m.\u001b[0m\u001b[0m_save\u001b[0m\u001b[0;34m(\u001b[0m\u001b[0mim\u001b[0m\u001b[0;34m,\u001b[0m \u001b[0m_idat\u001b[0m\u001b[0;34m(\u001b[0m\u001b[0mfp\u001b[0m\u001b[0;34m,\u001b[0m \u001b[0mchunk\u001b[0m\u001b[0;34m)\u001b[0m\u001b[0;34m,\u001b[0m \u001b[0;34m[\u001b[0m\u001b[0;34m(\u001b[0m\u001b[0;34m\"zip\"\u001b[0m\u001b[0;34m,\u001b[0m \u001b[0;34m(\u001b[0m\u001b[0;36m0\u001b[0m\u001b[0;34m,\u001b[0m \u001b[0;36m0\u001b[0m\u001b[0;34m)\u001b[0m \u001b[0;34m+\u001b[0m \u001b[0mim\u001b[0m\u001b[0;34m.\u001b[0m\u001b[0msize\u001b[0m\u001b[0;34m,\u001b[0m \u001b[0;36m0\u001b[0m\u001b[0;34m,\u001b[0m \u001b[0mrawmode\u001b[0m\u001b[0;34m)\u001b[0m\u001b[0;34m]\u001b[0m\u001b[0;34m)\u001b[0m\u001b[0;34m\u001b[0m\u001b[0;34m\u001b[0m\u001b[0m\n\u001b[0m\u001b[1;32m   1338\u001b[0m \u001b[0;34m\u001b[0m\u001b[0m\n\u001b[1;32m   1339\u001b[0m     \u001b[0;32mif\u001b[0m \u001b[0minfo\u001b[0m\u001b[0;34m:\u001b[0m\u001b[0;34m\u001b[0m\u001b[0;34m\u001b[0m\u001b[0m\n",
      "\u001b[0;32m~/anaconda3/envs/pytorch_p38/lib/python3.8/site-packages/PIL/ImageFile.py\u001b[0m in \u001b[0;36m_save\u001b[0;34m(im, fp, tile, bufsize)\u001b[0m\n\u001b[1;32m    522\u001b[0m             \u001b[0;32melse\u001b[0m\u001b[0;34m:\u001b[0m\u001b[0;34m\u001b[0m\u001b[0;34m\u001b[0m\u001b[0m\n\u001b[1;32m    523\u001b[0m                 \u001b[0;32mwhile\u001b[0m \u001b[0;32mTrue\u001b[0m\u001b[0;34m:\u001b[0m\u001b[0;34m\u001b[0m\u001b[0;34m\u001b[0m\u001b[0m\n\u001b[0;32m--> 524\u001b[0;31m                     \u001b[0ml\u001b[0m\u001b[0;34m,\u001b[0m \u001b[0ms\u001b[0m\u001b[0;34m,\u001b[0m \u001b[0md\u001b[0m \u001b[0;34m=\u001b[0m \u001b[0me\u001b[0m\u001b[0;34m.\u001b[0m\u001b[0mencode\u001b[0m\u001b[0;34m(\u001b[0m\u001b[0mbufsize\u001b[0m\u001b[0;34m)\u001b[0m\u001b[0;34m\u001b[0m\u001b[0;34m\u001b[0m\u001b[0m\n\u001b[0m\u001b[1;32m    525\u001b[0m                     \u001b[0mfp\u001b[0m\u001b[0;34m.\u001b[0m\u001b[0mwrite\u001b[0m\u001b[0;34m(\u001b[0m\u001b[0md\u001b[0m\u001b[0;34m)\u001b[0m\u001b[0;34m\u001b[0m\u001b[0;34m\u001b[0m\u001b[0m\n\u001b[1;32m    526\u001b[0m                     \u001b[0;32mif\u001b[0m \u001b[0ms\u001b[0m\u001b[0;34m:\u001b[0m\u001b[0;34m\u001b[0m\u001b[0;34m\u001b[0m\u001b[0m\n",
      "\u001b[0;31mKeyboardInterrupt\u001b[0m: "
     ]
    }
   ],
   "source": [
    "d=DataGenerator(compress=True)\n",
    "d.process(\"../../../video-datasets/vimeo_super_resolution_test/low_resolution/00001/\")"
   ]
  },
  {
   "cell_type": "code",
   "execution_count": null,
   "metadata": {},
   "outputs": [],
   "source": []
  },
  {
   "cell_type": "code",
   "execution_count": null,
   "metadata": {},
   "outputs": [],
   "source": []
  },
  {
   "cell_type": "raw",
   "metadata": {},
   "source": []
  }
 ],
 "metadata": {
  "kernelspec": {
   "display_name": "Python 3",
   "language": "python",
   "name": "python3"
  },
  "language_info": {
   "codemirror_mode": {
    "name": "ipython",
    "version": 3
   },
   "file_extension": ".py",
   "mimetype": "text/x-python",
   "name": "python",
   "nbconvert_exporter": "python",
   "pygments_lexer": "ipython3",
   "version": "3.8.10"
  }
 },
 "nbformat": 4,
 "nbformat_minor": 4
}
