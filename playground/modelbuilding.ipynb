{
 "cells": [
  {
   "cell_type": "code",
   "execution_count": 1,
   "id": "07414e23-1aa8-40d4-be61-9f04224ba215",
   "metadata": {},
   "outputs": [],
   "source": [
    "import sys\n",
    "%load_ext autoreload\n",
    "%autoreload 2\n",
    "sys.path.append(\"../\")\n",
    "from videoview.networks.frame_recurrent_net import VideoEnhancer\n",
    "from videoview.imports import *\n",
    "from videoview.utils.net_utils import get_upsampling_func\n",
    "# from videoview.networks.reconstruction_net import SRNet\n",
    "from videoview.networks.opticalflow_net import FNet"
   ]
  },
  {
   "cell_type": "code",
   "execution_count": 3,
   "id": "7cb8288e-ba1e-4869-bdb3-a15cd2045e04",
   "metadata": {},
   "outputs": [],
   "source": [
    "# nn.PixelShuffle(2)(torch.randn(1,3,64,64))"
   ]
  },
  {
   "cell_type": "code",
   "execution_count": 2,
   "id": "41b78048-4401-49cb-81e2-0eb00049989e",
   "metadata": {},
   "outputs": [
    {
     "data": {
      "text/plain": [
       "torch.Size([1, 3, 32, 32])"
      ]
     },
     "execution_count": 2,
     "metadata": {},
     "output_type": "execute_result"
    }
   ],
   "source": [
    "F.interpolate(torch.randn(1,3,32,32),size=(32,32),mode=\"bilinear\", align_corners=False).shape"
   ]
  },
  {
   "cell_type": "code",
   "execution_count": 15,
   "id": "22943f0e-8354-4d2d-ae45-2b8b434e093b",
   "metadata": {},
   "outputs": [
    {
     "name": "stdout",
     "output_type": "stream",
     "text": [
      "torch.Size([1, 3, 62, 62])\n"
     ]
    },
    {
     "data": {
      "text/plain": [
       "torch.Size([1, 2, 62, 62])"
      ]
     },
     "execution_count": 15,
     "metadata": {},
     "output_type": "execute_result"
    }
   ],
   "source": [
    "FNet(3)(torch.randn(1,3,62,62),torch.randn(1,3,62,62)).shape"
   ]
  },
  {
   "cell_type": "code",
   "execution_count": 5,
   "id": "8315cb60-9812-4c7f-8125-4294a3045cb3",
   "metadata": {},
   "outputs": [],
   "source": [
    "from videoview.networks.blocks import Interpolate"
   ]
  },
  {
   "cell_type": "code",
   "execution_count": 6,
   "id": "a21c0ef8-0b52-45ad-8cba-46c48100460e",
   "metadata": {},
   "outputs": [
    {
     "data": {
      "text/plain": [
       "torch.Size([1, 3, 248, 248])"
      ]
     },
     "execution_count": 6,
     "metadata": {},
     "output_type": "execute_result"
    }
   ],
   "source": [
    "Interpolate(factor=4)(torch.randn(1,3,62,62)).shape"
   ]
  },
  {
   "cell_type": "code",
   "execution_count": 3,
   "id": "f4b9880b-ea0c-44de-b3d5-dc2cf715ee01",
   "metadata": {},
   "outputs": [
    {
     "ename": "TypeError",
     "evalue": "super(type, obj): obj must be an instance or subtype of type",
     "output_type": "error",
     "traceback": [
      "\u001b[0;31m---------------------------------------------------------------------------\u001b[0m",
      "\u001b[0;31mTypeError\u001b[0m                                 Traceback (most recent call last)",
      "\u001b[0;32m<timed exec>\u001b[0m in \u001b[0;36m<module>\u001b[0;34m\u001b[0m\n",
      "\u001b[0;32m/media/vinod/5B4F031A529188B2/projects/video-enhancer/playground/../videoview/networks/frame_recurrent_net.py\u001b[0m in \u001b[0;36m__init__\u001b[0;34m(self, in_nc, out_nc, nf, nb, degradation, scale)\u001b[0m\n\u001b[1;32m     14\u001b[0m \u001b[0;34m\u001b[0m\u001b[0m\n\u001b[1;32m     15\u001b[0m     \u001b[0;32mdef\u001b[0m \u001b[0m__init__\u001b[0m\u001b[0;34m(\u001b[0m\u001b[0mself\u001b[0m\u001b[0;34m,\u001b[0m \u001b[0min_nc\u001b[0m\u001b[0;34m=\u001b[0m\u001b[0;36m3\u001b[0m\u001b[0;34m,\u001b[0m \u001b[0mout_nc\u001b[0m\u001b[0;34m=\u001b[0m\u001b[0;36m3\u001b[0m\u001b[0;34m,\u001b[0m \u001b[0mnf\u001b[0m\u001b[0;34m=\u001b[0m\u001b[0;36m64\u001b[0m\u001b[0;34m,\u001b[0m \u001b[0mnb\u001b[0m\u001b[0;34m=\u001b[0m\u001b[0;36m16\u001b[0m\u001b[0;34m,\u001b[0m \u001b[0mdegradation\u001b[0m\u001b[0;34m=\u001b[0m\u001b[0;34m\"BI\"\u001b[0m\u001b[0;34m,\u001b[0m \u001b[0mscale\u001b[0m\u001b[0;34m=\u001b[0m\u001b[0;36m4\u001b[0m\u001b[0;34m)\u001b[0m\u001b[0;34m:\u001b[0m\u001b[0;34m\u001b[0m\u001b[0;34m\u001b[0m\u001b[0m\n\u001b[0;32m---> 16\u001b[0;31m         \u001b[0msuper\u001b[0m\u001b[0;34m(\u001b[0m\u001b[0mVideoEnhancer\u001b[0m\u001b[0;34m,\u001b[0m \u001b[0mself\u001b[0m\u001b[0;34m)\u001b[0m\u001b[0;34m.\u001b[0m\u001b[0m__init__\u001b[0m\u001b[0;34m(\u001b[0m\u001b[0;34m)\u001b[0m\u001b[0;34m\u001b[0m\u001b[0;34m\u001b[0m\u001b[0m\n\u001b[0m\u001b[1;32m     17\u001b[0m         \u001b[0mself\u001b[0m\u001b[0;34m.\u001b[0m\u001b[0mscale\u001b[0m \u001b[0;34m=\u001b[0m \u001b[0mscale\u001b[0m\u001b[0;34m\u001b[0m\u001b[0;34m\u001b[0m\u001b[0m\n\u001b[1;32m     18\u001b[0m \u001b[0;34m\u001b[0m\u001b[0m\n",
      "\u001b[0;31mTypeError\u001b[0m: super(type, obj): obj must be an instance or subtype of type"
     ]
    }
   ],
   "source": [
    "%%time\n",
    "d=VideoEnhancer(scale=4).cuda()(torch.randn(1,10,3,150,150).cuda())"
   ]
  },
  {
   "cell_type": "code",
   "execution_count": 5,
   "id": "9fad189b-a319-4b8a-a8fe-39047e5fe1b6",
   "metadata": {},
   "outputs": [
    {
     "data": {
      "text/plain": [
       "torch.Size([1, 10, 3, 300, 300])"
      ]
     },
     "execution_count": 5,
     "metadata": {},
     "output_type": "execute_result"
    }
   ],
   "source": [
    "d[\"hr_data\"].shape"
   ]
  },
  {
   "cell_type": "code",
   "execution_count": null,
   "id": "c2d441a8-dd6b-4212-9ae1-3dda678a0e3a",
   "metadata": {},
   "outputs": [],
   "source": []
  },
  {
   "cell_type": "code",
   "execution_count": 17,
   "id": "8bc70a35-d390-4f5f-994e-b9d1c299ae92",
   "metadata": {},
   "outputs": [
    {
     "data": {
      "text/plain": [
       "torch.Size([1, 64, 65, 65])"
      ]
     },
     "execution_count": 17,
     "metadata": {},
     "output_type": "execute_result"
    }
   ],
   "source": [
    "nf=64\n",
    "conv_up = nn.Sequential(\n",
    "            nn.ConvTranspose2d(nf, nf, 3, 2, bias=True),\n",
    "            nn.ReLU(inplace=True),\n",
    "\n",
    "        )\n",
    "conv_up(torch.randn(1,nf,32,32)).shape"
   ]
  },
  {
   "cell_type": "code",
   "execution_count": 12,
   "id": "8858de80-a5cd-48bf-8786-b2e7c3066cc2",
   "metadata": {},
   "outputs": [
    {
     "data": {
      "text/plain": [
       "96"
      ]
     },
     "execution_count": 12,
     "metadata": {},
     "output_type": "execute_result"
    }
   ],
   "source": [
    "32*3"
   ]
  },
  {
   "cell_type": "code",
   "execution_count": 5,
   "id": "69d16d47-e5ab-4fb3-8743-db25ca26e27c",
   "metadata": {},
   "outputs": [
    {
     "name": "stdout",
     "output_type": "stream",
     "text": [
      "torch.Size([1, 64, 128, 128])\n"
     ]
    },
    {
     "data": {
      "text/plain": [
       "torch.Size([1, 3, 512, 512])"
      ]
     },
     "execution_count": 5,
     "metadata": {},
     "output_type": "execute_result"
    }
   ],
   "source": [
    "SRNet(upsample_func=get_upsampling_func(2),scale=2)(torch.randn(1,3,128,128),torch.randn(1,12,128,128)).shape"
   ]
  },
  {
   "cell_type": "code",
   "execution_count": 16,
   "id": "c5daacc4-26e9-4414-9dd2-6769f04b6f2e",
   "metadata": {},
   "outputs": [
    {
     "data": {
      "text/plain": [
       "torch.Size([1, 10, 3, 128, 128])"
      ]
     },
     "execution_count": 16,
     "metadata": {},
     "output_type": "execute_result"
    }
   ],
   "source": [
    "d[\"hr_data\"].shape"
   ]
  }
 ],
 "metadata": {
  "kernelspec": {
   "display_name": "Python 3",
   "language": "python",
   "name": "python3"
  },
  "language_info": {
   "codemirror_mode": {
    "name": "ipython",
    "version": 3
   },
   "file_extension": ".py",
   "mimetype": "text/x-python",
   "name": "python",
   "nbconvert_exporter": "python",
   "pygments_lexer": "ipython3",
   "version": "3.8.10"
  }
 },
 "nbformat": 4,
 "nbformat_minor": 5
}
