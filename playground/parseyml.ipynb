{
 "cells": [
  {
   "cell_type": "code",
   "execution_count": 1,
   "id": "b7cd9096-206a-435e-8e59-14922b0c06f9",
   "metadata": {},
   "outputs": [],
   "source": [
    "import sys\n",
    "import os\n",
    "sys.path.append(\"../\")\n",
    "from pathlib import Path\n",
    "%load_ext autoreload\n",
    "%autoreload 2\n",
    "from videoview.options import *"
   ]
  },
  {
   "cell_type": "code",
   "execution_count": 2,
   "id": "8b1609e9-6da6-42f1-8a24-452aa5dfb2d2",
   "metadata": {},
   "outputs": [],
   "source": []
  },
  {
   "cell_type": "code",
   "execution_count": 2,
   "id": "245f04aa-1b3c-441e-b689-f74448682c74",
   "metadata": {},
   "outputs": [],
   "source": [
    "dl = get_dataloader_from_yml(\"../configs/tecogan/mse_train.yml\")"
   ]
  },
  {
   "cell_type": "code",
   "execution_count": 6,
   "id": "f7467655-6b36-40e0-9a10-a7fd53545824",
   "metadata": {},
   "outputs": [
    {
     "data": {
      "text/plain": [
       "{'train_dataset': <videoview.data.lqgt.LQGT at 0x7f0fa45e23a0>,\n",
       " 'validation_dataset': <videoview.data.lqgt.LQGT at 0x7f0fa45e2220>,\n",
       " 'train_dataloader': <torch.utils.data.dataloader.DataLoader at 0x7f0fa45e2ee0>,\n",
       " 'validation_dataloader': <torch.utils.data.dataloader.DataLoader at 0x7f0fa4595610>}"
      ]
     },
     "execution_count": 6,
     "metadata": {},
     "output_type": "execute_result"
    }
   ],
   "source": [
    "dl"
   ]
  },
  {
   "cell_type": "code",
   "execution_count": 3,
   "id": "5c04e8df-dc51-4a64-8346-78e8911e405a",
   "metadata": {},
   "outputs": [],
   "source": [
    "a=next(iter(dl[\"train_dataloader\"]))"
   ]
  },
  {
   "cell_type": "code",
   "execution_count": null,
   "id": "55c1496a-926e-4604-abc0-8e261f3cb9f8",
   "metadata": {},
   "outputs": [],
   "source": []
  },
  {
   "cell_type": "code",
   "execution_count": null,
   "id": "c97ed546-2629-410f-8b30-7ba31c75fa67",
   "metadata": {},
   "outputs": [],
   "source": [
    "next(iter(dl[\"train_dataloader\"]))[1].shape"
   ]
  },
  {
   "cell_type": "code",
   "execution_count": null,
   "id": "9d73f462-befc-49dd-a73a-193ac1848ef3",
   "metadata": {},
   "outputs": [],
   "source": [
    "for i,j in dl[\"train_dataloader\"]:\n",
    "    print(i.shape,j.shape)"
   ]
  },
  {
   "cell_type": "code",
   "execution_count": 20,
   "id": "8603ff8b-61c1-45aa-a6f7-28ba9cf7a08e",
   "metadata": {},
   "outputs": [],
   "source": [
    "from videoview.networks.frvsrnet_pixel import VideoEnhancer"
   ]
  },
  {
   "cell_type": "code",
   "execution_count": 7,
   "id": "388e4f6f-889d-4d16-b1e4-2b6f48800b07",
   "metadata": {},
   "outputs": [],
   "source": [
    "ve = VideoEnhancer(4).cuda()"
   ]
  },
  {
   "cell_type": "code",
   "execution_count": 8,
   "id": "8a48df3a-990c-4773-a01d-b92c572f1ccd",
   "metadata": {},
   "outputs": [],
   "source": [
    "import torch"
   ]
  },
  {
   "cell_type": "code",
   "execution_count": 61,
   "id": "155ccd07-1290-4645-9352-610eaf0cb0e4",
   "metadata": {},
   "outputs": [
    {
     "data": {
      "text/plain": [
       "8.0"
      ]
     },
     "execution_count": 61,
     "metadata": {},
     "output_type": "execute_result"
    }
   ],
   "source": [
    "296/37"
   ]
  },
  {
   "cell_type": "code",
   "execution_count": 9,
   "id": "92594c59-6a91-4d02-a811-d9a875fcbcb3",
   "metadata": {},
   "outputs": [
    {
     "name": "stderr",
     "output_type": "stream",
     "text": [
      "/home/vinod/anaconda3/envs/pytorch_p38/lib/python3.8/site-packages/torch/nn/functional.py:718: UserWarning: Named tensors and all their associated APIs are an experimental feature and subject to change. Please do not use them for anything important until they are released as stable. (Triggered internally at  /opt/conda/conda-bld/pytorch_1623448278899/work/c10/core/TensorImpl.h:1156.)\n",
      "  return torch.max_pool2d(input, kernel_size, stride, padding, dilation, ceil_mode)\n"
     ]
    }
   ],
   "source": [
    "res=ve(torch.randn(1,10,3,37,23).cuda())"
   ]
  },
  {
   "cell_type": "code",
   "execution_count": 50,
   "id": "51f1bb50-9758-4de2-976d-abd361f379f3",
   "metadata": {},
   "outputs": [
    {
     "data": {
      "text/plain": [
       "92"
      ]
     },
     "execution_count": 50,
     "metadata": {},
     "output_type": "execute_result"
    }
   ],
   "source": [
    "23*4"
   ]
  },
  {
   "cell_type": "code",
   "execution_count": 45,
   "id": "e9b32e6e-9f08-4cef-b62a-1f14366446c2",
   "metadata": {},
   "outputs": [
    {
     "data": {
      "text/plain": [
       "torch.Size([10, 3, 64, 64])"
      ]
     },
     "execution_count": 45,
     "metadata": {},
     "output_type": "execute_result"
    }
   ],
   "source": [
    "a[0].shape"
   ]
  },
  {
   "cell_type": "code",
   "execution_count": 26,
   "id": "9b280a63-6854-4198-9628-bf16fe0a78a0",
   "metadata": {},
   "outputs": [
    {
     "data": {
      "text/plain": [
       "192"
      ]
     },
     "execution_count": 26,
     "metadata": {},
     "output_type": "execute_result"
    }
   ],
   "source": [
    "64*3"
   ]
  },
  {
   "cell_type": "code",
   "execution_count": 10,
   "id": "1bd73bdf-1f98-45ca-bb5e-656af14fff37",
   "metadata": {},
   "outputs": [
    {
     "data": {
      "text/plain": [
       "torch.Size([1, 10, 3, 148, 92])"
      ]
     },
     "execution_count": 10,
     "metadata": {},
     "output_type": "execute_result"
    }
   ],
   "source": [
    "res[\"hr_data\"].shape"
   ]
  },
  {
   "cell_type": "code",
   "execution_count": 8,
   "id": "230984ef-b494-48f5-99c6-b670a1961ace",
   "metadata": {},
   "outputs": [],
   "source": [
    "from videoview.options.load_for_options import *\n",
    "ve=get_generator_from_yml(\"../configs/tecogan/mse_train.yml\")"
   ]
  },
  {
   "cell_type": "code",
   "execution_count": 13,
   "id": "0055ce7d-bfb6-4255-86ed-d1bf3752177f",
   "metadata": {},
   "outputs": [
    {
     "data": {
      "text/plain": [
       "torch.Size([1, 2, 3, 64, 64])"
      ]
     },
     "execution_count": 13,
     "metadata": {},
     "output_type": "execute_result"
    }
   ],
   "source": [
    "ve(torch.randn(1,2,3,32,32).cuda())[\"hr_data\"].shape"
   ]
  },
  {
   "cell_type": "code",
   "execution_count": 18,
   "id": "9279730e-b695-4068-b337-a869a52fbfcd",
   "metadata": {},
   "outputs": [],
   "source": [
    "# torch.save(ve.fnet.state_dict(),\"file.pth\")"
   ]
  },
  {
   "cell_type": "code",
   "execution_count": 55,
   "id": "49fa29fd-b5b5-4fab-9e38-4e0103cc5075",
   "metadata": {},
   "outputs": [],
   "source": [
    "ve = VideoEnhancer(2).cuda() \n"
   ]
  },
  {
   "cell_type": "code",
   "execution_count": 43,
   "id": "b193bbc0-65b7-4aa6-bce5-01b0d4836d79",
   "metadata": {},
   "outputs": [],
   "source": [
    "# torch.save(ve.fnet.state_dict(),\"./fnet.pth\")"
   ]
  },
  {
   "cell_type": "code",
   "execution_count": 56,
   "id": "2a16aebc-9906-4119-a8d0-8c82d973287f",
   "metadata": {},
   "outputs": [
    {
     "data": {
      "text/plain": [
       "<All keys matched successfully>"
      ]
     },
     "execution_count": 56,
     "metadata": {},
     "output_type": "execute_result"
    }
   ],
   "source": [
    "ve.fnet.load_state_dict(torch.load(\"./fnet.pth\"))"
   ]
  },
  {
   "cell_type": "code",
   "execution_count": 57,
   "id": "626cdabb-0b92-4118-819e-9935038611ba",
   "metadata": {},
   "outputs": [],
   "source": [
    "torch.save(ve.state_dict(),\"frvsrnet_pixel_initial_x2.pth\")"
   ]
  },
  {
   "cell_type": "code",
   "execution_count": 23,
   "id": "a723b3af-8663-4a55-893c-aebd7227e155",
   "metadata": {},
   "outputs": [],
   "source": [
    "# ve.load_state_dict(torch.load(\"./FRVSR_BI_iter400000.pth\"))"
   ]
  },
  {
   "cell_type": "code",
   "execution_count": 24,
   "id": "3fe99d1a-70ef-4ba9-9da1-b78c113007f6",
   "metadata": {},
   "outputs": [],
   "source": [
    "# torch.load(\"./FRVSR_BI_iter400000.pth\")"
   ]
  },
  {
   "cell_type": "code",
   "execution_count": null,
   "id": "ca492235-bd73-4181-adec-6f37fb378680",
   "metadata": {},
   "outputs": [],
   "source": []
  }
 ],
 "metadata": {
  "kernelspec": {
   "display_name": "Python 3",
   "language": "python",
   "name": "python3"
  },
  "language_info": {
   "codemirror_mode": {
    "name": "ipython",
    "version": 3
   },
   "file_extension": ".py",
   "mimetype": "text/x-python",
   "name": "python",
   "nbconvert_exporter": "python",
   "pygments_lexer": "ipython3",
   "version": "3.8.10"
  }
 },
 "nbformat": 4,
 "nbformat_minor": 5
}
